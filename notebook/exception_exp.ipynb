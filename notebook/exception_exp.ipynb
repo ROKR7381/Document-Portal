{
 "cells": [
  {
   "cell_type": "code",
   "execution_count": 2,
   "id": "3f854dd3",
   "metadata": {},
   "outputs": [],
   "source": [
    "from logger.custom_logger import CustomLogger"
   ]
  },
  {
   "cell_type": "code",
   "execution_count": 7,
   "id": "09d816d4",
   "metadata": {},
   "outputs": [],
   "source": [
    "logger = CustomLogger().get_logger('exception_exp')"
   ]
  },
  {
   "cell_type": "code",
   "execution_count": 9,
   "id": "397bee10",
   "metadata": {},
   "outputs": [
    {
     "ename": "DocumentPortalException",
     "evalue": "\n          Error in[C:\\Users\\rosha\\AppData\\Local\\Temp\\ipykernel_16164\\823201044.py] at line [25]\n          Message: division by zero\n          Traceback (most recent call last):\n  File \"C:\\Users\\rosha\\AppData\\Local\\Temp\\ipykernel_16164\\823201044.py\", line 25, in <module>\n    a = 1/0\nZeroDivisionError: division by zero\n\n          ",
     "output_type": "error",
     "traceback": [
      "\u001b[1;31m---------------------------------------------------------------------------\u001b[0m",
      "\u001b[1;31mZeroDivisionError\u001b[0m                         Traceback (most recent call last)",
      "Cell \u001b[1;32mIn[9], line 25\u001b[0m\n\u001b[0;32m     23\u001b[0m \u001b[38;5;28;01mtry\u001b[39;00m:\n\u001b[0;32m     24\u001b[0m     \u001b[38;5;66;03m# simulate error\u001b[39;00m\n\u001b[1;32m---> 25\u001b[0m     a \u001b[38;5;241m=\u001b[39m \u001b[38;5;241;43m1\u001b[39;49m\u001b[38;5;241;43m/\u001b[39;49m\u001b[38;5;241;43m0\u001b[39;49m\n\u001b[0;32m     26\u001b[0m     \u001b[38;5;28mprint\u001b[39m(a)\n",
      "\u001b[1;31mZeroDivisionError\u001b[0m: division by zero",
      "\nDuring handling of the above exception, another exception occurred:\n",
      "\u001b[1;31mDocumentPortalException\u001b[0m                   Traceback (most recent call last)",
      "Cell \u001b[1;32mIn[9], line 31\u001b[0m\n\u001b[0;32m     29\u001b[0m app_exc\u001b[38;5;241m=\u001b[39mDocumentPortalException(e,sys)\n\u001b[0;32m     30\u001b[0m logger\u001b[38;5;241m.\u001b[39merror(app_exc)\n\u001b[1;32m---> 31\u001b[0m \u001b[38;5;28;01mraise\u001b[39;00m app_exc\n",
      "\u001b[1;31mDocumentPortalException\u001b[0m: \n          Error in[C:\\Users\\rosha\\AppData\\Local\\Temp\\ipykernel_16164\\823201044.py] at line [25]\n          Message: division by zero\n          Traceback (most recent call last):\n  File \"C:\\Users\\rosha\\AppData\\Local\\Temp\\ipykernel_16164\\823201044.py\", line 25, in <module>\n    a = 1/0\nZeroDivisionError: division by zero\n\n          "
     ]
    }
   ],
   "source": [
    "import sys\n",
    "import traceback\n",
    "class DocumentPortalException(Exception):\n",
    "    \"\"\"Custom exception for Document Portal\"\"\"\n",
    "    def __init__(self,error_message:str,error_details:sys):\n",
    "        _,_,exc_tb=error_details.exc_info()\n",
    "        self.file_name=exc_tb.tb_frame.f_code.co_filename\n",
    "        self.lineno=exc_tb.tb_lineno\n",
    "        self.error_message=str(error_message)\n",
    "        self.traceback_str=\"\".join(traceback.format_exception(*error_details.exc_info()))\n",
    "        \n",
    "        \n",
    "        \n",
    "    def __str__(self):\n",
    "        return f\"\"\"\n",
    "          Error in[{self.file_name}] at line [{self.lineno}]\n",
    "          Message: {self.error_message}\n",
    "          {self.traceback_str}\n",
    "          \"\"\"\n",
    "    \n",
    "    \n",
    "if __name__ == \"__main__\":\n",
    "    try:\n",
    "        # simulate error\n",
    "        a = 1/0\n",
    "        print(a)\n",
    "    except Exception as e:\n",
    "        app_exc=DocumentPortalException(e,sys)\n",
    "        app_exc=DocumentPortalException(e,sys)\n",
    "        logger.error(app_exc)\n",
    "        raise app_exc\n",
    "        "
   ]
  },
  {
   "cell_type": "code",
   "execution_count": null,
   "id": "47857ccc",
   "metadata": {},
   "outputs": [],
   "source": []
  },
  {
   "cell_type": "code",
   "execution_count": null,
   "id": "504bd8bd",
   "metadata": {},
   "outputs": [],
   "source": []
  },
  {
   "cell_type": "code",
   "execution_count": null,
   "id": "12b0b121",
   "metadata": {},
   "outputs": [],
   "source": []
  },
  {
   "cell_type": "code",
   "execution_count": null,
   "id": "5a15a585",
   "metadata": {},
   "outputs": [],
   "source": []
  },
  {
   "cell_type": "code",
   "execution_count": null,
   "id": "f8872939",
   "metadata": {},
   "outputs": [],
   "source": []
  },
  {
   "cell_type": "code",
   "execution_count": null,
   "id": "047a78ef",
   "metadata": {},
   "outputs": [],
   "source": []
  }
 ],
 "metadata": {
  "kernelspec": {
   "display_name": "Python 3",
   "language": "python",
   "name": "python3"
  },
  "language_info": {
   "codemirror_mode": {
    "name": "ipython",
    "version": 3
   },
   "file_extension": ".py",
   "mimetype": "text/x-python",
   "name": "python",
   "nbconvert_exporter": "python",
   "pygments_lexer": "ipython3",
   "version": "3.10.0"
  }
 },
 "nbformat": 4,
 "nbformat_minor": 5
}
